{
 "cells": [
  {
   "cell_type": "markdown",
   "metadata": {},
   "source": [
    "# Project04 - Restaurant Finder\n",
    "\n",
    "### Info:\n",
    "1. the project is divided into 3 main folder: /client, /database, /server\n",
    "2. Important file, in database are those with the word \"_Final\", (the rest are raw unformatted data):\n",
    "    ```\n",
    "        3letterCountryCode.txt\n",
    "        customer_Final.csv\n",
    "        Employee_Final.csv\n",
    "        open_issue_Final.json\n",
    "        closed_issues_Final.json\n",
    "    ```\n",
    "\n",
    "\n",
    "### How TO RUN:\n",
    "1. `git clone`\n",
    "2. To run client: \n",
    "   * `cd client/build`\n",
    "   * `python -m SimpleHTTPServer *port*`\n",
    "3. To run server:\n",
    "   * `cd server`\n",
    "   * `npm install`\n",
    "   * `node server.js`\n",
    "\n",
    "\n",
    "\n",
    "### Notes for client folder :\n",
    "1. `cd client`\n",
    "2. `npm install`\n",
    "3. `npm start` to run development mode\n",
    "4. `npm run build` to compile to build folder\n",
    "5. directory: \n",
    "   * /client\n",
    "     * /build    &nbsp;&nbsp; &nbsp;&nbsp;# build directory for production only, \n",
    "     * /public   &nbsp;&nbsp; # main html and static assets\n",
    "     * package.json\n",
    "     * /node_modules\n",
    "     * /src\n",
    "       * /components_pages  &nbsp;&nbsp; # each pages: home.html, showStations.html\n",
    "       * /components_utils  &nbsp;&nbsp; # components that are common among pages\n",
    "     * /helper   &nbsp;&nbsp; # helper functions\n",
    "       * favicon.ico\n",
    "       * index.css\n",
    "       * index.js &nbsp;&nbsp;  # app main entry\n",
    "       * logo.svc\n",
    "\n",
    "### Notes for server folder:\n",
    "1. server will only serve json f"
   ]
  }
 ],
 "metadata": {
  "kernelspec": {
   "display_name": "Python 2",
   "language": "python",
   "name": "python2"
  },
  "language_info": {
   "codemirror_mode": {
    "name": "ipython",
    "version": 2
   },
   "file_extension": ".py",
   "mimetype": "text/x-python",
   "name": "python",
   "nbconvert_exporter": "python",
   "pygments_lexer": "ipython2",
   "version": "2.7.12"
  }
 },
 "nbformat": 4,
 "nbformat_minor": 1
}
